{
 "cells": [
  {
   "cell_type": "code",
   "execution_count": 2,
   "id": "f28329ac-4174-4ed8-9f56-89fef619c07b",
   "metadata": {},
   "outputs": [],
   "source": [
    "import pandas as pd\n",
    "import numpy as np\n",
    "import matplotlib as plt\n",
    "import seaborn as sns"
   ]
  },
  {
   "cell_type": "code",
   "execution_count": 3,
   "id": "0a16859c-e0e7-402f-9d1a-cb356fbe4ad9",
   "metadata": {},
   "outputs": [
    {
     "data": {
      "text/html": [
       "<div>\n",
       "<style scoped>\n",
       "    .dataframe tbody tr th:only-of-type {\n",
       "        vertical-align: middle;\n",
       "    }\n",
       "\n",
       "    .dataframe tbody tr th {\n",
       "        vertical-align: top;\n",
       "    }\n",
       "\n",
       "    .dataframe thead th {\n",
       "        text-align: right;\n",
       "    }\n",
       "</style>\n",
       "<table border=\"1\" class=\"dataframe\">\n",
       "  <thead>\n",
       "    <tr style=\"text-align: right;\">\n",
       "      <th></th>\n",
       "      <th>case_id</th>\n",
       "      <th>continent</th>\n",
       "      <th>education_of_employee</th>\n",
       "      <th>has_job_experience</th>\n",
       "      <th>requires_job_training</th>\n",
       "      <th>no_of_employees</th>\n",
       "      <th>yr_of_estab</th>\n",
       "      <th>region_of_employment</th>\n",
       "      <th>prevailing_wage</th>\n",
       "      <th>unit_of_wage</th>\n",
       "      <th>full_time_position</th>\n",
       "      <th>case_status</th>\n",
       "    </tr>\n",
       "  </thead>\n",
       "  <tbody>\n",
       "    <tr>\n",
       "      <th>0</th>\n",
       "      <td>EZYV01</td>\n",
       "      <td>Asia</td>\n",
       "      <td>High School</td>\n",
       "      <td>N</td>\n",
       "      <td>N</td>\n",
       "      <td>14513</td>\n",
       "      <td>2007</td>\n",
       "      <td>West</td>\n",
       "      <td>592.2029</td>\n",
       "      <td>Hour</td>\n",
       "      <td>Y</td>\n",
       "      <td>Denied</td>\n",
       "    </tr>\n",
       "    <tr>\n",
       "      <th>1</th>\n",
       "      <td>EZYV02</td>\n",
       "      <td>Asia</td>\n",
       "      <td>Master's</td>\n",
       "      <td>Y</td>\n",
       "      <td>N</td>\n",
       "      <td>2412</td>\n",
       "      <td>2002</td>\n",
       "      <td>Northeast</td>\n",
       "      <td>83425.6500</td>\n",
       "      <td>Year</td>\n",
       "      <td>Y</td>\n",
       "      <td>Certified</td>\n",
       "    </tr>\n",
       "    <tr>\n",
       "      <th>2</th>\n",
       "      <td>EZYV03</td>\n",
       "      <td>Asia</td>\n",
       "      <td>Bachelor's</td>\n",
       "      <td>N</td>\n",
       "      <td>Y</td>\n",
       "      <td>44444</td>\n",
       "      <td>2008</td>\n",
       "      <td>West</td>\n",
       "      <td>122996.8600</td>\n",
       "      <td>Year</td>\n",
       "      <td>Y</td>\n",
       "      <td>Denied</td>\n",
       "    </tr>\n",
       "    <tr>\n",
       "      <th>3</th>\n",
       "      <td>EZYV04</td>\n",
       "      <td>Asia</td>\n",
       "      <td>Bachelor's</td>\n",
       "      <td>N</td>\n",
       "      <td>N</td>\n",
       "      <td>98</td>\n",
       "      <td>1897</td>\n",
       "      <td>West</td>\n",
       "      <td>83434.0300</td>\n",
       "      <td>Year</td>\n",
       "      <td>Y</td>\n",
       "      <td>Denied</td>\n",
       "    </tr>\n",
       "    <tr>\n",
       "      <th>4</th>\n",
       "      <td>EZYV05</td>\n",
       "      <td>Africa</td>\n",
       "      <td>Master's</td>\n",
       "      <td>Y</td>\n",
       "      <td>N</td>\n",
       "      <td>1082</td>\n",
       "      <td>2005</td>\n",
       "      <td>South</td>\n",
       "      <td>149907.3900</td>\n",
       "      <td>Year</td>\n",
       "      <td>Y</td>\n",
       "      <td>Certified</td>\n",
       "    </tr>\n",
       "    <tr>\n",
       "      <th>...</th>\n",
       "      <td>...</td>\n",
       "      <td>...</td>\n",
       "      <td>...</td>\n",
       "      <td>...</td>\n",
       "      <td>...</td>\n",
       "      <td>...</td>\n",
       "      <td>...</td>\n",
       "      <td>...</td>\n",
       "      <td>...</td>\n",
       "      <td>...</td>\n",
       "      <td>...</td>\n",
       "      <td>...</td>\n",
       "    </tr>\n",
       "    <tr>\n",
       "      <th>25475</th>\n",
       "      <td>EZYV25476</td>\n",
       "      <td>Asia</td>\n",
       "      <td>Bachelor's</td>\n",
       "      <td>Y</td>\n",
       "      <td>Y</td>\n",
       "      <td>2601</td>\n",
       "      <td>2008</td>\n",
       "      <td>South</td>\n",
       "      <td>77092.5700</td>\n",
       "      <td>Year</td>\n",
       "      <td>Y</td>\n",
       "      <td>Certified</td>\n",
       "    </tr>\n",
       "    <tr>\n",
       "      <th>25476</th>\n",
       "      <td>EZYV25477</td>\n",
       "      <td>Asia</td>\n",
       "      <td>High School</td>\n",
       "      <td>Y</td>\n",
       "      <td>N</td>\n",
       "      <td>3274</td>\n",
       "      <td>2006</td>\n",
       "      <td>Northeast</td>\n",
       "      <td>279174.7900</td>\n",
       "      <td>Year</td>\n",
       "      <td>Y</td>\n",
       "      <td>Certified</td>\n",
       "    </tr>\n",
       "    <tr>\n",
       "      <th>25477</th>\n",
       "      <td>EZYV25478</td>\n",
       "      <td>Asia</td>\n",
       "      <td>Master's</td>\n",
       "      <td>Y</td>\n",
       "      <td>N</td>\n",
       "      <td>1121</td>\n",
       "      <td>1910</td>\n",
       "      <td>South</td>\n",
       "      <td>146298.8500</td>\n",
       "      <td>Year</td>\n",
       "      <td>N</td>\n",
       "      <td>Certified</td>\n",
       "    </tr>\n",
       "    <tr>\n",
       "      <th>25478</th>\n",
       "      <td>EZYV25479</td>\n",
       "      <td>Asia</td>\n",
       "      <td>Master's</td>\n",
       "      <td>Y</td>\n",
       "      <td>Y</td>\n",
       "      <td>1918</td>\n",
       "      <td>1887</td>\n",
       "      <td>West</td>\n",
       "      <td>86154.7700</td>\n",
       "      <td>Year</td>\n",
       "      <td>Y</td>\n",
       "      <td>Certified</td>\n",
       "    </tr>\n",
       "    <tr>\n",
       "      <th>25479</th>\n",
       "      <td>EZYV25480</td>\n",
       "      <td>Asia</td>\n",
       "      <td>Bachelor's</td>\n",
       "      <td>Y</td>\n",
       "      <td>N</td>\n",
       "      <td>3195</td>\n",
       "      <td>1960</td>\n",
       "      <td>Midwest</td>\n",
       "      <td>70876.9100</td>\n",
       "      <td>Year</td>\n",
       "      <td>Y</td>\n",
       "      <td>Certified</td>\n",
       "    </tr>\n",
       "  </tbody>\n",
       "</table>\n",
       "<p>25480 rows × 12 columns</p>\n",
       "</div>"
      ],
      "text/plain": [
       "         case_id continent education_of_employee has_job_experience  \\\n",
       "0         EZYV01      Asia           High School                  N   \n",
       "1         EZYV02      Asia              Master's                  Y   \n",
       "2         EZYV03      Asia            Bachelor's                  N   \n",
       "3         EZYV04      Asia            Bachelor's                  N   \n",
       "4         EZYV05    Africa              Master's                  Y   \n",
       "...          ...       ...                   ...                ...   \n",
       "25475  EZYV25476      Asia            Bachelor's                  Y   \n",
       "25476  EZYV25477      Asia           High School                  Y   \n",
       "25477  EZYV25478      Asia              Master's                  Y   \n",
       "25478  EZYV25479      Asia              Master's                  Y   \n",
       "25479  EZYV25480      Asia            Bachelor's                  Y   \n",
       "\n",
       "      requires_job_training  no_of_employees  yr_of_estab  \\\n",
       "0                         N            14513         2007   \n",
       "1                         N             2412         2002   \n",
       "2                         Y            44444         2008   \n",
       "3                         N               98         1897   \n",
       "4                         N             1082         2005   \n",
       "...                     ...              ...          ...   \n",
       "25475                     Y             2601         2008   \n",
       "25476                     N             3274         2006   \n",
       "25477                     N             1121         1910   \n",
       "25478                     Y             1918         1887   \n",
       "25479                     N             3195         1960   \n",
       "\n",
       "      region_of_employment  prevailing_wage unit_of_wage full_time_position  \\\n",
       "0                     West         592.2029         Hour                  Y   \n",
       "1                Northeast       83425.6500         Year                  Y   \n",
       "2                     West      122996.8600         Year                  Y   \n",
       "3                     West       83434.0300         Year                  Y   \n",
       "4                    South      149907.3900         Year                  Y   \n",
       "...                    ...              ...          ...                ...   \n",
       "25475                South       77092.5700         Year                  Y   \n",
       "25476            Northeast      279174.7900         Year                  Y   \n",
       "25477                South      146298.8500         Year                  N   \n",
       "25478                 West       86154.7700         Year                  Y   \n",
       "25479              Midwest       70876.9100         Year                  Y   \n",
       "\n",
       "      case_status  \n",
       "0          Denied  \n",
       "1       Certified  \n",
       "2          Denied  \n",
       "3          Denied  \n",
       "4       Certified  \n",
       "...           ...  \n",
       "25475   Certified  \n",
       "25476   Certified  \n",
       "25477   Certified  \n",
       "25478   Certified  \n",
       "25479   Certified  \n",
       "\n",
       "[25480 rows x 12 columns]"
      ]
     },
     "execution_count": 3,
     "metadata": {},
     "output_type": "execute_result"
    }
   ],
   "source": [
    "visa_df=pd.read_csv(r\"C:\\Users\\surya\\NareshIT\\ EDA_python\\Visadataset - Visadataset.csv\")\n",
    "visa_df"
   ]
  },
  {
   "cell_type": "code",
   "execution_count": 4,
   "id": "b46c4a1d-c2a8-4144-a61e-1f41cee03837",
   "metadata": {},
   "outputs": [
    {
     "data": {
      "text/plain": [
       "Index(['no_of_employees', 'yr_of_estab', 'prevailing_wage'], dtype='object')"
      ]
     },
     "execution_count": 4,
     "metadata": {},
     "output_type": "execute_result"
    }
   ],
   "source": [
    "visa_df.select_dtypes(exclude='object').columns"
   ]
  },
  {
   "cell_type": "code",
   "execution_count": 5,
   "id": "2cb8e434-b42c-4cbe-966e-7fdc5b07d87a",
   "metadata": {},
   "outputs": [
    {
     "data": {
      "text/html": [
       "<div>\n",
       "<style scoped>\n",
       "    .dataframe tbody tr th:only-of-type {\n",
       "        vertical-align: middle;\n",
       "    }\n",
       "\n",
       "    .dataframe tbody tr th {\n",
       "        vertical-align: top;\n",
       "    }\n",
       "\n",
       "    .dataframe thead th {\n",
       "        text-align: right;\n",
       "    }\n",
       "</style>\n",
       "<table border=\"1\" class=\"dataframe\">\n",
       "  <thead>\n",
       "    <tr style=\"text-align: right;\">\n",
       "      <th></th>\n",
       "      <th>case_id</th>\n",
       "      <th>continent</th>\n",
       "      <th>education_of_employee</th>\n",
       "      <th>has_job_experience</th>\n",
       "      <th>requires_job_training</th>\n",
       "      <th>no_of_employees</th>\n",
       "      <th>yr_of_estab</th>\n",
       "      <th>region_of_employment</th>\n",
       "      <th>prevailing_wage</th>\n",
       "      <th>unit_of_wage</th>\n",
       "      <th>full_time_position</th>\n",
       "      <th>case_status</th>\n",
       "    </tr>\n",
       "  </thead>\n",
       "  <tbody>\n",
       "    <tr>\n",
       "      <th>0</th>\n",
       "      <td>EZYV01</td>\n",
       "      <td>Asia</td>\n",
       "      <td>High School</td>\n",
       "      <td>N</td>\n",
       "      <td>N</td>\n",
       "      <td>14513</td>\n",
       "      <td>2007</td>\n",
       "      <td>West</td>\n",
       "      <td>592.2029</td>\n",
       "      <td>Hour</td>\n",
       "      <td>Y</td>\n",
       "      <td>Denied</td>\n",
       "    </tr>\n",
       "    <tr>\n",
       "      <th>1</th>\n",
       "      <td>EZYV02</td>\n",
       "      <td>Asia</td>\n",
       "      <td>Master's</td>\n",
       "      <td>Y</td>\n",
       "      <td>N</td>\n",
       "      <td>2412</td>\n",
       "      <td>2002</td>\n",
       "      <td>Northeast</td>\n",
       "      <td>83425.6500</td>\n",
       "      <td>Year</td>\n",
       "      <td>Y</td>\n",
       "      <td>Certified</td>\n",
       "    </tr>\n",
       "  </tbody>\n",
       "</table>\n",
       "</div>"
      ],
      "text/plain": [
       "  case_id continent education_of_employee has_job_experience  \\\n",
       "0  EZYV01      Asia           High School                  N   \n",
       "1  EZYV02      Asia              Master's                  Y   \n",
       "\n",
       "  requires_job_training  no_of_employees  yr_of_estab region_of_employment  \\\n",
       "0                     N            14513         2007                 West   \n",
       "1                     N             2412         2002            Northeast   \n",
       "\n",
       "   prevailing_wage unit_of_wage full_time_position case_status  \n",
       "0         592.2029         Hour                  Y      Denied  \n",
       "1       83425.6500         Year                  Y   Certified  "
      ]
     },
     "execution_count": 5,
     "metadata": {},
     "output_type": "execute_result"
    }
   ],
   "source": [
    "visa_df.head(2)"
   ]
  },
  {
   "cell_type": "code",
   "execution_count": 6,
   "id": "81bc83f5-06d7-48b9-b10f-a0a6d7f90935",
   "metadata": {},
   "outputs": [
    {
     "data": {
      "text/html": [
       "<div>\n",
       "<style scoped>\n",
       "    .dataframe tbody tr th:only-of-type {\n",
       "        vertical-align: middle;\n",
       "    }\n",
       "\n",
       "    .dataframe tbody tr th {\n",
       "        vertical-align: top;\n",
       "    }\n",
       "\n",
       "    .dataframe thead th {\n",
       "        text-align: right;\n",
       "    }\n",
       "</style>\n",
       "<table border=\"1\" class=\"dataframe\">\n",
       "  <thead>\n",
       "    <tr style=\"text-align: right;\">\n",
       "      <th></th>\n",
       "      <th>case_id</th>\n",
       "      <th>continent</th>\n",
       "      <th>education_of_employee</th>\n",
       "      <th>has_job_experience</th>\n",
       "      <th>requires_job_training</th>\n",
       "      <th>no_of_employees</th>\n",
       "      <th>yr_of_estab</th>\n",
       "      <th>region_of_employment</th>\n",
       "      <th>prevailing_wage</th>\n",
       "      <th>unit_of_wage</th>\n",
       "      <th>full_time_position</th>\n",
       "      <th>case_status</th>\n",
       "    </tr>\n",
       "  </thead>\n",
       "  <tbody>\n",
       "    <tr>\n",
       "      <th>13357</th>\n",
       "      <td>EZYV13358</td>\n",
       "      <td>Asia</td>\n",
       "      <td>Master's</td>\n",
       "      <td>Y</td>\n",
       "      <td>N</td>\n",
       "      <td>601</td>\n",
       "      <td>1998</td>\n",
       "      <td>Midwest</td>\n",
       "      <td>87628.76</td>\n",
       "      <td>Week</td>\n",
       "      <td>Y</td>\n",
       "      <td>Certified</td>\n",
       "    </tr>\n",
       "  </tbody>\n",
       "</table>\n",
       "</div>"
      ],
      "text/plain": [
       "         case_id continent education_of_employee has_job_experience  \\\n",
       "13357  EZYV13358      Asia              Master's                  Y   \n",
       "\n",
       "      requires_job_training  no_of_employees  yr_of_estab  \\\n",
       "13357                     N              601         1998   \n",
       "\n",
       "      region_of_employment  prevailing_wage unit_of_wage full_time_position  \\\n",
       "13357              Midwest         87628.76         Week                  Y   \n",
       "\n",
       "      case_status  \n",
       "13357   Certified  "
      ]
     },
     "execution_count": 6,
     "metadata": {},
     "output_type": "execute_result"
    }
   ],
   "source": [
    "visa_df.sample()"
   ]
  },
  {
   "cell_type": "code",
   "execution_count": 7,
   "id": "aaf258c5-5620-4b62-9a91-606920966476",
   "metadata": {},
   "outputs": [
    {
     "data": {
      "text/html": [
       "<div>\n",
       "<style scoped>\n",
       "    .dataframe tbody tr th:only-of-type {\n",
       "        vertical-align: middle;\n",
       "    }\n",
       "\n",
       "    .dataframe tbody tr th {\n",
       "        vertical-align: top;\n",
       "    }\n",
       "\n",
       "    .dataframe thead th {\n",
       "        text-align: right;\n",
       "    }\n",
       "</style>\n",
       "<table border=\"1\" class=\"dataframe\">\n",
       "  <thead>\n",
       "    <tr style=\"text-align: right;\">\n",
       "      <th></th>\n",
       "      <th>no_of_employees</th>\n",
       "    </tr>\n",
       "  </thead>\n",
       "  <tbody>\n",
       "    <tr>\n",
       "      <th>0</th>\n",
       "      <td>14513</td>\n",
       "    </tr>\n",
       "    <tr>\n",
       "      <th>1</th>\n",
       "      <td>2412</td>\n",
       "    </tr>\n",
       "    <tr>\n",
       "      <th>2</th>\n",
       "      <td>44444</td>\n",
       "    </tr>\n",
       "    <tr>\n",
       "      <th>3</th>\n",
       "      <td>98</td>\n",
       "    </tr>\n",
       "    <tr>\n",
       "      <th>4</th>\n",
       "      <td>1082</td>\n",
       "    </tr>\n",
       "    <tr>\n",
       "      <th>...</th>\n",
       "      <td>...</td>\n",
       "    </tr>\n",
       "    <tr>\n",
       "      <th>25475</th>\n",
       "      <td>2601</td>\n",
       "    </tr>\n",
       "    <tr>\n",
       "      <th>25476</th>\n",
       "      <td>3274</td>\n",
       "    </tr>\n",
       "    <tr>\n",
       "      <th>25477</th>\n",
       "      <td>1121</td>\n",
       "    </tr>\n",
       "    <tr>\n",
       "      <th>25478</th>\n",
       "      <td>1918</td>\n",
       "    </tr>\n",
       "    <tr>\n",
       "      <th>25479</th>\n",
       "      <td>3195</td>\n",
       "    </tr>\n",
       "  </tbody>\n",
       "</table>\n",
       "<p>25480 rows × 1 columns</p>\n",
       "</div>"
      ],
      "text/plain": [
       "       no_of_employees\n",
       "0                14513\n",
       "1                 2412\n",
       "2                44444\n",
       "3                   98\n",
       "4                 1082\n",
       "...                ...\n",
       "25475             2601\n",
       "25476             3274\n",
       "25477             1121\n",
       "25478             1918\n",
       "25479             3195\n",
       "\n",
       "[25480 rows x 1 columns]"
      ]
     },
     "execution_count": 7,
     "metadata": {},
     "output_type": "execute_result"
    }
   ],
   "source": [
    "noe_df=visa_df[['no_of_employees']]\n",
    "noe_ser=visa_df['no_of_employees']\n",
    "noe_df"
   ]
  },
  {
   "cell_type": "code",
   "execution_count": 8,
   "id": "0801aa19-dc80-44e5-940c-a412cecb175d",
   "metadata": {},
   "outputs": [
    {
     "data": {
      "text/plain": [
       "0        14513\n",
       "1         2412\n",
       "2        44444\n",
       "3           98\n",
       "4         1082\n",
       "         ...  \n",
       "25475     2601\n",
       "25476     3274\n",
       "25477     1121\n",
       "25478     1918\n",
       "25479     3195\n",
       "Name: no_of_employees, Length: 25480, dtype: int64"
      ]
     },
     "execution_count": 8,
     "metadata": {},
     "output_type": "execute_result"
    }
   ],
   "source": [
    "noe_ser"
   ]
  },
  {
   "cell_type": "markdown",
   "id": "6e670e18-ab2b-452d-a6f2-aee3f9dc5b3e",
   "metadata": {},
   "source": [
    "- len\n",
    "- min\n",
    "- max\n",
    "- mean\n",
    "- median\n",
    "- sd\n",
    "- 75%\n",
    "- 50%\n",
    "- 25%"
   ]
  },
  {
   "cell_type": "markdown",
   "id": "446f4ab8-8782-4452-987f-d8344faf6689",
   "metadata": {},
   "source": [
    "- len"
   ]
  },
  {
   "cell_type": "code",
   "execution_count": 9,
   "id": "1b5dcac3-6b43-49eb-ba94-e65c14a60e01",
   "metadata": {},
   "outputs": [
    {
     "data": {
      "text/plain": [
       "25480"
      ]
     },
     "execution_count": 9,
     "metadata": {},
     "output_type": "execute_result"
    }
   ],
   "source": [
    "len(noe_ser)# py"
   ]
  },
  {
   "cell_type": "code",
   "execution_count": 10,
   "id": "dc4001c2-777e-4862-8b3b-3d9804c0b49e",
   "metadata": {},
   "outputs": [
    {
     "data": {
      "text/plain": [
       "-26"
      ]
     },
     "execution_count": 10,
     "metadata": {},
     "output_type": "execute_result"
    }
   ],
   "source": [
    "min(noe_ser)#py"
   ]
  },
  {
   "cell_type": "code",
   "execution_count": 11,
   "id": "4751c536-9a8a-4820-aa4c-0d8ceae7e01a",
   "metadata": {},
   "outputs": [
    {
     "data": {
      "text/plain": [
       "602069"
      ]
     },
     "execution_count": 11,
     "metadata": {},
     "output_type": "execute_result"
    }
   ],
   "source": [
    "max(noe_ser)#py"
   ]
  },
  {
   "cell_type": "code",
   "execution_count": 12,
   "id": "8b9b8530-fb11-45e5-bdad-f60be4eedbcf",
   "metadata": {},
   "outputs": [
    {
     "data": {
      "text/plain": [
       "-26"
      ]
     },
     "execution_count": 12,
     "metadata": {},
     "output_type": "execute_result"
    }
   ],
   "source": [
    "np.min(noe_ser)#np"
   ]
  },
  {
   "cell_type": "code",
   "execution_count": 13,
   "id": "7715bb2d-57b4-4838-a18a-958a6d605a6e",
   "metadata": {},
   "outputs": [
    {
     "data": {
      "text/plain": [
       "602069"
      ]
     },
     "execution_count": 13,
     "metadata": {},
     "output_type": "execute_result"
    }
   ],
   "source": [
    "np.max(noe_ser)#np"
   ]
  },
  {
   "cell_type": "code",
   "execution_count": 14,
   "id": "2a78166f-e33b-4b8f-8553-37b16e2851d8",
   "metadata": {},
   "outputs": [
    {
     "data": {
      "text/plain": [
       "602069"
      ]
     },
     "execution_count": 14,
     "metadata": {},
     "output_type": "execute_result"
    }
   ],
   "source": [
    "#pd\n",
    "(noe_ser).max()"
   ]
  },
  {
   "cell_type": "code",
   "execution_count": 15,
   "id": "13b2174d-3fa1-4531-b4a6-390e6e8c86de",
   "metadata": {},
   "outputs": [
    {
     "data": {
      "text/plain": [
       "5667.043210361067"
      ]
     },
     "execution_count": 15,
     "metadata": {},
     "output_type": "execute_result"
    }
   ],
   "source": [
    "#pd\n",
    "noe_mean=(noe_ser).mean()\n",
    "noe_mean"
   ]
  },
  {
   "cell_type": "code",
   "execution_count": 16,
   "id": "48d244b6-e483-4dd7-a6eb-dbdb7bcb3d26",
   "metadata": {},
   "outputs": [
    {
     "data": {
      "text/plain": [
       "5667.043210361067"
      ]
     },
     "execution_count": 16,
     "metadata": {},
     "output_type": "execute_result"
    }
   ],
   "source": [
    "#np\n",
    "np.mean(noe_ser)"
   ]
  },
  {
   "cell_type": "markdown",
   "id": "9f0d034f-aa2b-462d-aa0a-25e05dea3dca",
   "metadata": {},
   "source": [
    "- meadian"
   ]
  },
  {
   "cell_type": "code",
   "execution_count": 17,
   "id": "243057c4-7ce6-45c0-8b9f-7c148cc0ed91",
   "metadata": {},
   "outputs": [
    {
     "data": {
      "text/plain": [
       "2109.0"
      ]
     },
     "execution_count": 17,
     "metadata": {},
     "output_type": "execute_result"
    }
   ],
   "source": [
    "#pd\n",
    "(noe_ser).median()"
   ]
  },
  {
   "cell_type": "code",
   "execution_count": 18,
   "id": "f90534d4-6e0b-4b7b-8617-59dcb60b0f74",
   "metadata": {},
   "outputs": [
    {
     "data": {
      "text/plain": [
       "2109.0"
      ]
     },
     "execution_count": 18,
     "metadata": {},
     "output_type": "execute_result"
    }
   ],
   "source": [
    "#np\n",
    "np.median(noe_ser)"
   ]
  },
  {
   "cell_type": "markdown",
   "id": "8603e383-d49f-449a-ae26-063421dc3d69",
   "metadata": {},
   "source": [
    "- standar Deviation"
   ]
  },
  {
   "cell_type": "code",
   "execution_count": 19,
   "id": "e51bb305-b2a7-4a85-aab7-ebec9aa0484f",
   "metadata": {},
   "outputs": [
    {
     "data": {
      "text/plain": [
       "22877.928847734398"
      ]
     },
     "execution_count": 19,
     "metadata": {},
     "output_type": "execute_result"
    }
   ],
   "source": [
    "noe_std=(noe_ser).std()\n",
    "noe_std"
   ]
  },
  {
   "cell_type": "code",
   "execution_count": 20,
   "id": "9b174252-224d-496e-969e-98506049ae99",
   "metadata": {},
   "outputs": [
    {
     "data": {
      "text/plain": [
       "count     25480.000000\n",
       "mean       5667.043210\n",
       "std       22877.928848\n",
       "min         -26.000000\n",
       "25%        1022.000000\n",
       "50%        2109.000000\n",
       "75%        3504.000000\n",
       "max      602069.000000\n",
       "Name: no_of_employees, dtype: float64"
      ]
     },
     "execution_count": 20,
     "metadata": {},
     "output_type": "execute_result"
    }
   ],
   "source": [
    "noe_ser.describe()"
   ]
  },
  {
   "cell_type": "code",
   "execution_count": 21,
   "id": "39acc6ea-8303-48ea-a852-a96480b29854",
   "metadata": {},
   "outputs": [
    {
     "data": {
      "text/plain": [
       "22877.479904380365"
      ]
     },
     "execution_count": 21,
     "metadata": {},
     "output_type": "execute_result"
    }
   ],
   "source": [
    "np.std(noe_ser)"
   ]
  },
  {
   "cell_type": "markdown",
   "id": "57482035-95ca-4a9a-8689-fae18da16b50",
   "metadata": {},
   "source": [
    "**percentile and quqntile**"
   ]
  },
  {
   "cell_type": "markdown",
   "id": "640ede43-5ccb-462b-ab4d-f330e39f7114",
   "metadata": {},
   "source": [
    "- it describe the how much percent people below\n",
    "- for ex 50 percentile\n",
    "- it mean 50 % people below the 50 percentile value"
   ]
  },
  {
   "cell_type": "markdown",
   "id": "13f6ae12-3b1a-4369-97d4-23b306ba091e",
   "metadata": {},
   "source": [
    "**percentile**"
   ]
  },
  {
   "cell_type": "code",
   "execution_count": 22,
   "id": "09a7b14f-33c8-4d86-bf65-e0d2ce1a3c2d",
   "metadata": {},
   "outputs": [
    {
     "name": "stdout",
     "output_type": "stream",
     "text": [
      "25% data is 1022.0\n",
      "50% data is 2109.0\n",
      "75% data is 3504.0\n"
     ]
    }
   ],
   "source": [
    "noe_50=round(np.percentile(visa_df['no_of_employees'],50),2)\n",
    "#noe_50=(np.percentile(noe_ser,50),2) #works\n",
    "noe_25=round(np.percentile(visa_df['no_of_employees'],25),2)\n",
    "noe_75=round(np.percentile(visa_df['no_of_employees'],75),2)\n",
    "print(f'25% data is {noe_25}')\n",
    "print(f'50% data is {noe_50}')\n",
    "print(f'75% data is {noe_75}')"
   ]
  },
  {
   "cell_type": "markdown",
   "id": "25c9b47d-4b91-44c7-8e4c-e4532da67edb",
   "metadata": {},
   "source": [
    "**quqntile**"
   ]
  },
  {
   "cell_type": "code",
   "execution_count": 23,
   "id": "f09d48a2-84e7-48a8-9657-c0d388922d4f",
   "metadata": {},
   "outputs": [
    {
     "name": "stdout",
     "output_type": "stream",
     "text": [
      "data is : 1022.0\n",
      "data is : 2109.0\n",
      "data is : 3504.0\n"
     ]
    }
   ],
   "source": [
    "noe_25=round(np.quantile(visa_df['no_of_employees'],0.25),2)\n",
    "noe_50=round(np.quantile(visa_df['no_of_employees'],0.50),2)\n",
    "noe_75=round(np.quantile(visa_df['no_of_employees'],0.75),2)\n",
    "print(f'data is : {noe_25}')\n",
    "print(f'data is : {noe_50}')\n",
    "print(f'data is : {noe_75}')"
   ]
  },
  {
   "cell_type": "markdown",
   "id": "86110a05-11da-4dc9-bd97-9a46c42cbc68",
   "metadata": {},
   "source": [
    "**understanding the percentile**\n",
    "- defination\n",
    "- there are 25%"
   ]
  },
  {
   "cell_type": "code",
   "execution_count": 24,
   "id": "091e7d64-b5a4-4b29-b6e1-893c9c17e207",
   "metadata": {},
   "outputs": [
    {
     "data": {
      "text/plain": [
       "6367"
      ]
     },
     "execution_count": 24,
     "metadata": {},
     "output_type": "execute_result"
    }
   ],
   "source": [
    "con=visa_df['no_of_employees']<noe_25\n",
    "visa_df[con]\n",
    "len(visa_df[con])"
   ]
  },
  {
   "cell_type": "code",
   "execution_count": null,
   "id": "12521222-6777-412b-aafa-2ff255cb2810",
   "metadata": {},
   "outputs": [],
   "source": [
    "25*25480/100"
   ]
  },
  {
   "cell_type": "markdown",
   "id": "1e8a29c1-be27-472a-9903-1fd5b8dec8da",
   "metadata": {},
   "source": [
    "**Empirical Rule**\n",
    "- 68-95-99.7"
   ]
  },
  {
   "cell_type": "code",
   "execution_count": 26,
   "id": "46e39752-de31-4650-ab51-5bd2d650f52a",
   "metadata": {},
   "outputs": [
    {
     "data": {
      "text/plain": [
       "(24674, -17210.88563737333, 28544.972058095467)"
      ]
     },
     "execution_count": 26,
     "metadata": {},
     "output_type": "execute_result"
    }
   ],
   "source": [
    "#68\n",
    "v1=noe_mean-1*noe_std\n",
    "v2=noe_mean+1*noe_std\n",
    "con1=visa_df['no_of_employees']>v1\n",
    "con2=visa_df['no_of_employees']<v2\n",
    "count1=len(visa_df[con1&con2])\n",
    "count1,v1,v2"
   ]
  },
  {
   "cell_type": "code",
   "execution_count": 28,
   "id": "607b1a1c-ec3c-4f0d-8336-baebb02569fd",
   "metadata": {},
   "outputs": [
    {
     "data": {
      "text/plain": [
       "33"
      ]
     },
     "execution_count": 28,
     "metadata": {},
     "output_type": "execute_result"
    }
   ],
   "source": [
    "#to check how much ngative values are present\n",
    "c=visa_df['no_of_employees']<0\n",
    "len(visa_df[c])"
   ]
  },
  {
   "cell_type": "code",
   "execution_count": 29,
   "id": "c80d6efb-f04f-413e-b2a0-8843c41efb5f",
   "metadata": {},
   "outputs": [
    {
     "data": {
      "text/plain": [
       "(24915, -40088.81448510773, 51422.90090582986)"
      ]
     },
     "execution_count": 29,
     "metadata": {},
     "output_type": "execute_result"
    }
   ],
   "source": [
    "#95\n",
    "v1=noe_mean-2*noe_std\n",
    "v2=noe_mean+2*noe_std\n",
    "con1=visa_df['no_of_employees']>v1\n",
    "con2=visa_df['no_of_employees']<v2\n",
    "count1=len(visa_df[con1&con2])\n",
    "count1,v1,v2"
   ]
  },
  {
   "cell_type": "code",
   "execution_count": 30,
   "id": "4a1a87c9-2f9b-4c9f-b2f9-696b4ee0a7a8",
   "metadata": {},
   "outputs": [
    {
     "data": {
      "text/plain": [
       "(25051, -62966.74333284213, 74300.82975356426)"
      ]
     },
     "execution_count": 30,
     "metadata": {},
     "output_type": "execute_result"
    }
   ],
   "source": [
    "#99.7\n",
    "v1=noe_mean-3*noe_std\n",
    "v2=noe_mean+3*noe_std\n",
    "con1=visa_df['no_of_employees']>v1\n",
    "con2=visa_df['no_of_employees']<v2\n",
    "count1=len(visa_df[con1&con2])\n",
    "count1,v1,v2"
   ]
  },
  {
   "cell_type": "code",
   "execution_count": null,
   "id": "ff3dde04-c831-4b91-a7c1-65f6a85767c1",
   "metadata": {},
   "outputs": [],
   "source": []
  }
 ],
 "metadata": {
  "kernelspec": {
   "display_name": "Python 3 (ipykernel)",
   "language": "python",
   "name": "python3"
  },
  "language_info": {
   "codemirror_mode": {
    "name": "ipython",
    "version": 3
   },
   "file_extension": ".py",
   "mimetype": "text/x-python",
   "name": "python",
   "nbconvert_exporter": "python",
   "pygments_lexer": "ipython3",
   "version": "3.11.7"
  }
 },
 "nbformat": 4,
 "nbformat_minor": 5
}
